{
  "nbformat": 4,
  "nbformat_minor": 0,
  "metadata": {
    "colab": {
      "name": "Mathematics_Quantum_Computing.ipynb",
      "provenance": [],
      "collapsed_sections": [],
      "authorship_tag": "ABX9TyNWHGQ1rxEsvnhYMdGWL67z",
      "include_colab_link": true
    },
    "kernelspec": {
      "name": "python3",
      "display_name": "Python 3"
    }
  },
  "cells": [
    {
      "cell_type": "markdown",
      "metadata": {
        "id": "view-in-github",
        "colab_type": "text"
      },
      "source": [
        "<a href=\"https://colab.research.google.com/github/paritoshkc/Quantum-Computing/blob/master/Complex_Arithmetic_Quantum_Computing.ipynb\" target=\"_parent\"><img src=\"https://colab.research.google.com/assets/colab-badge.svg\" alt=\"Open In Colab\"/></a>"
      ]
    },
    {
      "cell_type": "markdown",
      "metadata": {
        "id": "YhTdOp05en1H",
        "colab_type": "text"
      },
      "source": [
        "Following code is representation of the mathematics required for understanding Quantum Computing. An exercise recommended as part of [Microsoft Katas](https://notebooks.gesis.org/binder/jupyter/user/microsoft-quantumkatas-38j1fgtk/notebooks/tutorials/ComplexArithmetic/ComplexArithmetic.ipynb)"
      ]
    },
    {
      "cell_type": "markdown",
      "metadata": {
        "id": "0M0HtbVNdYE6",
        "colab_type": "text"
      },
      "source": [
        "#1. Finding the nth power of complex number (i).\n",
        "*i* is a complex number and the square of *i* is **-1**\n",
        "\n",
        "Input: An even integer  𝑛 .\n",
        "\n",
        "Goal: Return the  𝑛 th power of  𝑖 , or  𝑖^𝑛 ."
      ]
    },
    {
      "cell_type": "code",
      "metadata": {
        "id": "K7J2n-OUdPSS",
        "colab_type": "code",
        "colab": {}
      },
      "source": [
        "def imaginary_power(power : int)-> int:\n",
        "  print(\"Argument types\",imaginary_power.__annotations__)\n",
        "  if(isinstance(power,int)):\n",
        "  \n",
        "    if (power>=4):\n",
        "      remainder=power%4\n",
        "      if remainder==0 : return 1\n",
        "      elif remainder== 1: return 999\n",
        "      elif remainder== 2: return -1\n",
        "      elif remainder== 3: return -999\n",
        "      \n",
        "    else: \n",
        "      if (power==1): return 999\n",
        "      elif power%4==0: return 1   \n",
        "      elif power%2==0: return -1\n",
        "      elif power%3==0: return -999\n",
        "  else:\n",
        "    print ('enter an integer')\n",
        "    pass\n",
        "  "
      ],
      "execution_count": 0,
      "outputs": []
    },
    {
      "cell_type": "code",
      "metadata": {
        "id": "CH6HmXArfpln",
        "colab_type": "code",
        "colab": {
          "base_uri": "https://localhost:8080/",
          "height": 51
        },
        "outputId": "0336e1fd-05e4-415e-fd56-8d1d13cfaefa"
      },
      "source": [
        "print(str(imaginary_power(35)).replace(\"999\",\"i\"))"
      ],
      "execution_count": 218,
      "outputs": [
        {
          "output_type": "stream",
          "text": [
            "Argument types {'power': <class 'int'>, 'return': <class 'int'>}\n",
            "-i\n"
          ],
          "name": "stdout"
        }
      ]
    },
    {
      "cell_type": "markdown",
      "metadata": {
        "id": "-BISeOrimQho",
        "colab_type": "text"
      },
      "source": [
        "# 2. Complex addition\n",
        "\n",
        "\n",
        "Inputs:\n",
        "\n",
        "<p align='justify'>\n",
        "\n",
        "> A complex number  𝑥=𝑎+𝑏𝑖 , represented as a tuple (a, b).\n",
        "\n",
        "> A complex number  𝑦=𝑐+𝑑𝑖 , represented as a tuple (c, d).\n",
        "\n",
        "Goal:\n",
        "> Return the sum of these two numbers  𝑥+𝑦=𝑧=𝑔+ℎ𝑖 , represented as a tuple (g, h)."
      ]
    },
    {
      "cell_type": "code",
      "metadata": {
        "id": "oiAvuf4vgu7O",
        "colab_type": "code",
        "colab": {}
      },
      "source": [
        "def add_complex(complex1 : complex, complex2:complex)-> complex:\n",
        "  print(\"Argument type\",add_complex.__annotations__)\n",
        "  add_real=complex1[0]+complex2[0]\n",
        "  add_imaginary=complex1[1]+complex2[1]\n",
        "  return (add_real,add_imaginary)"
      ],
      "execution_count": 0,
      "outputs": []
    },
    {
      "cell_type": "code",
      "metadata": {
        "id": "3CNKHgTPnYlb",
        "colab_type": "code",
        "colab": {
          "base_uri": "https://localhost:8080/",
          "height": 51
        },
        "outputId": "20c51a75-c7a0-41d9-cd23-f8d65602e8a9"
      },
      "source": [
        "result=add_complex(([3,2]),([1,4]))\n",
        "if result[1]>0 : print(result[0],'+',result[1],\"i\")\n",
        "else :  print(result[0],result[1],\"i\")"
      ],
      "execution_count": 172,
      "outputs": [
        {
          "output_type": "stream",
          "text": [
            "Argument type {'complex1': <class 'complex'>, 'complex2': <class 'complex'>, 'return': <class 'complex'>}\n",
            "4 + 6 i\n"
          ],
          "name": "stdout"
        }
      ]
    },
    {
      "cell_type": "markdown",
      "metadata": {
        "id": "vEJcTN9yrHMd",
        "colab_type": "text"
      },
      "source": [
        "# 3: Complex multiplication.\n",
        "Inputs:\n",
        "\n",
        ">A complex number  𝑥=𝑎+𝑏𝑖 , represented as a tuple (a, b).\n",
        ">A complex number  𝑦=𝑐+𝑑𝑖 , represented as a tuple (c, d).\n",
        "\n",
        "\n",
        "Goal:\n",
        "> Return the product of these two numbers  𝑥⋅𝑦=𝑧=𝑔+ℎ𝑖 , represented as a tuple (g, h).\n",
        "\n"
      ]
    },
    {
      "cell_type": "code",
      "metadata": {
        "id": "KURCUnKFnjGA",
        "colab_type": "code",
        "colab": {}
      },
      "source": [
        "def complex_multiplication(complex1 : complex,complex2: complex)-> complex:\n",
        "  print(\"Argument type\",complex_multiplication.__annotations__)\n",
        "  real_real_num=complex1[0]*complex2[0]\n",
        "  img_img_num=complex1[1]*complex2[1]*-1\n",
        "  real1_img2_num= complex1[0]*complex2[1]\n",
        "  real2_img1_num= complex2[0]*complex1[1]\n",
        "  return (real_real_num+img_img_num\n",
        "          ,real1_img2_num+real2_img1_num)"
      ],
      "execution_count": 0,
      "outputs": []
    },
    {
      "cell_type": "code",
      "metadata": {
        "id": "7X33sjs8r9Tx",
        "colab_type": "code",
        "colab": {
          "base_uri": "https://localhost:8080/",
          "height": 51
        },
        "outputId": "06a06c1d-3707-4397-cc82-8da1c5de3ea7"
      },
      "source": [
        "result=complex_multiplication(([3,2]),([1,4]))\n",
        "if result[1]>0 : print(result[0],'+',result[1],\"i\")\n",
        "else :  print(result[0],result[1],\"i\")\n"
      ],
      "execution_count": 175,
      "outputs": [
        {
          "output_type": "stream",
          "text": [
            "Argument type {'complex1': <class 'complex'>, 'complex2': <class 'complex'>, 'return': <class 'complex'>}\n",
            "-5 + 14 i\n"
          ],
          "name": "stdout"
        }
      ]
    },
    {
      "cell_type": "markdown",
      "metadata": {
        "id": "qdQk6fyC30D0",
        "colab_type": "text"
      },
      "source": [
        "# 4: Complex conjugate.\n",
        "Input:\n",
        "> A complex number  𝑥=𝑎+𝑏𝑖 , represented as a tuple (a, b).\n",
        "\n",
        "\n",
        "Goal:\n",
        "> Return  𝑥=𝑔+ℎ𝑖 , the complex conjugate of  𝑥 , represented as a tuple (g, h)."
      ]
    },
    {
      "cell_type": "code",
      "metadata": {
        "id": "8CGWUmqfsAw7",
        "colab_type": "code",
        "colab": {}
      },
      "source": [
        "def conjugate(x :complex) -> complex :\n",
        "  return (x[0],x[1]*(-1))"
      ],
      "execution_count": 0,
      "outputs": []
    },
    {
      "cell_type": "code",
      "metadata": {
        "id": "11PuymGqLlwr",
        "colab_type": "code",
        "colab": {
          "base_uri": "https://localhost:8080/",
          "height": 34
        },
        "outputId": "82667655-86ee-492c-f724-0d659c619a27"
      },
      "source": [
        "result = conjugate((2,2))\n",
        "if result[1]>0 : print(result[0],'+',result[1],\"i\")\n",
        "else :  print(result[0],result[1],\"i\")\n"
      ],
      "execution_count": 188,
      "outputs": [
        {
          "output_type": "stream",
          "text": [
            "2 -2 i\n"
          ],
          "name": "stdout"
        }
      ]
    },
    {
      "cell_type": "markdown",
      "metadata": {
        "id": "T-iNA0k4My8h",
        "colab_type": "text"
      },
      "source": [
        "# 5: Complex division.\n",
        "Inputs:\n",
        "\n",
        ">A complex number  𝑥=𝑎+𝑏𝑖 , represented as a tuple (a, b).\n",
        "\n",
        ">A complex number  𝑦=𝑐+𝑑𝑖≠0 , represented as a tuple (c, d).\n",
        "\n",
        "\n",
        "Goal:\n",
        "> Return the result of the division  𝑥𝑦=𝑎+𝑏𝑖𝑐+𝑑𝑖=𝑔+ℎ𝑖 , represented as a tuple (g, h)."
      ]
    },
    {
      "cell_type": "code",
      "metadata": {
        "id": "TWXpwwKyLpXj",
        "colab_type": "code",
        "colab": {}
      },
      "source": [
        "def complex_division(complex1 : complex, complex2: complex)->complex:\n",
        "  if complex2[0]!=0 and complex2[1]!=0:\n",
        "    numerator=complex_multiplication(complex1,conjugate(complex2))\n",
        "    denomenator=complex2[0]**2+complex2[1]**2\n",
        "    return (numerator[0]/denomenator,numerator[1]/denomenator)\n",
        "\n",
        "  elif complex2[1]==0:\n",
        "    return (complex1[0]/complex2[0],complex1[1]/complex2[0])\n",
        "  elif complex2[0]==0:\n",
        "    numerator=complex_multiplication(complex1,conjugate(complex2))\n",
        "    denomenator=complex_multiplication((complex2[1],0),(complex2[1],0))\n",
        "    return (numerator[0]/denomenator[0],numerator[1]/denomenator[0])\n"
      ],
      "execution_count": 0,
      "outputs": []
    },
    {
      "cell_type": "code",
      "metadata": {
        "id": "D-O4diGzPEg0",
        "colab_type": "code",
        "colab": {
          "base_uri": "https://localhost:8080/",
          "height": 68
        },
        "outputId": "eb00398c-b367-40da-da9e-2d108c497b28"
      },
      "source": [
        "result = complex_division((3,3),(0,2))\n",
        "if result[1]>0 : print(result[0],'+',result[1],\"i\")\n",
        "else :  print(result[0],result[1],\"i\")"
      ],
      "execution_count": 200,
      "outputs": [
        {
          "output_type": "stream",
          "text": [
            "Argument type {'complex1': <class 'complex'>, 'complex2': <class 'complex'>, 'return': <class 'complex'>}\n",
            "Argument type {'complex1': <class 'complex'>, 'complex2': <class 'complex'>, 'return': <class 'complex'>}\n",
            "1.5 -1.5 i\n"
          ],
          "name": "stdout"
        }
      ]
    },
    {
      "cell_type": "markdown",
      "metadata": {
        "id": "Abw4myjmUbDp",
        "colab_type": "text"
      },
      "source": [
        "# 6: Modulus\n",
        "Input:\n",
        "> A complex number  𝑥=𝑎+𝑏𝑖 , represented as a tuple (a, b).\n",
        "\n",
        "\n",
        "Goal:\n",
        "> Return the modulus of this number,  |𝑥| ."
      ]
    },
    {
      "cell_type": "code",
      "metadata": {
        "id": "YXWDaG3-Pv5I",
        "colab_type": "code",
        "colab": {}
      },
      "source": [
        "import math\n",
        "def modulus(complex1 : complex)->complex:\n",
        "  conjugate_num=conjugate(complex1)\n",
        "  print(math.sqrt(complex_multiplication(conjugate_num,complex1)[0]))"
      ],
      "execution_count": 0,
      "outputs": []
    },
    {
      "cell_type": "code",
      "metadata": {
        "id": "1fTO_HNSVTIE",
        "colab_type": "code",
        "colab": {
          "base_uri": "https://localhost:8080/",
          "height": 51
        },
        "outputId": "4b7adfe9-05b6-4865-af85-08ee5ad3e228"
      },
      "source": [
        "modulus((6,8))"
      ],
      "execution_count": 228,
      "outputs": [
        {
          "output_type": "stream",
          "text": [
            "Argument type {'complex1': <class 'complex'>, 'complex2': <class 'complex'>, 'return': <class 'complex'>}\n",
            "10.0\n"
          ],
          "name": "stdout"
        }
      ]
    },
    {
      "cell_type": "code",
      "metadata": {
        "id": "v16qgpLAVXn1",
        "colab_type": "code",
        "colab": {}
      },
      "source": [
        ""
      ],
      "execution_count": 0,
      "outputs": []
    }
  ]
}